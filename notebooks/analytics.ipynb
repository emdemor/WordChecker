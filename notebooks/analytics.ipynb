{
 "cells": [
  {
   "cell_type": "markdown",
   "id": "c3cebcfb",
   "metadata": {},
   "source": [
    "# Analysis - Word Checker "
   ]
  },
  {
   "cell_type": "code",
   "execution_count": 2,
   "id": "5b650a02",
   "metadata": {},
   "outputs": [],
   "source": [
    "import os, sys\n",
    "import warnings\n",
    "import pandas as pd\n",
    "import numpy as np\n",
    "import matplotlib.pyplot as plt\n",
    "from IPython.display import display, HTML\n",
    "from sklearn import set_config"
   ]
  },
  {
   "cell_type": "code",
   "execution_count": 3,
   "id": "e8540486",
   "metadata": {},
   "outputs": [
    {
     "data": {
      "text/html": [
       "\n",
       "        <style>\n",
       "        .container { width:100% !important; }\n",
       "        </style>\n",
       "        "
      ],
      "text/plain": [
       "<IPython.core.display.HTML object>"
      ]
     },
     "metadata": {},
     "output_type": "display_data"
    }
   ],
   "source": [
    "# Turn off jedi\n",
    "%config IPCompleter.use_jedi=False\n",
    "\n",
    "# Set sklearn output to pandas\n",
    "set_config(transform_output = \"pandas\")\n",
    "\n",
    "workdir = os.path.dirname(os.getcwd())\n",
    "\n",
    "sys.path.append(workdir)\n",
    "\n",
    "pd.options.display.max_columns = None\n",
    "\n",
    "warnings.filterwarnings(\"ignore\")\n",
    "\n",
    "display(\n",
    "    HTML(\n",
    "        \"\"\"\n",
    "        <style>\n",
    "        .container { width:100% !important; }\n",
    "        </style>\n",
    "        \"\"\"\n",
    "    )\n",
    ")"
   ]
  }
 ],
 "metadata": {
  "kernelspec": {
   "display_name": "case-corteva",
   "language": "python",
   "name": "case-corteva"
  },
  "language_info": {
   "codemirror_mode": {
    "name": "ipython",
    "version": 3
   },
   "file_extension": ".py",
   "mimetype": "text/x-python",
   "name": "python",
   "nbconvert_exporter": "python",
   "pygments_lexer": "ipython3",
   "version": "3.10.8"
  }
 },
 "nbformat": 4,
 "nbformat_minor": 5
}
